{
  "nbformat": 4,
  "nbformat_minor": 0,
  "metadata": {
    "colab": {
      "name": "FinalProjectDemo.ipynb",
      "provenance": []
    },
    "kernelspec": {
      "name": "python3",
      "display_name": "Python 3"
    },
    "language_info": {
      "name": "python"
    }
  },
  "cells": [
    {
      "cell_type": "code",
      "metadata": {
        "id": "XqsExyFJsJW9"
      },
      "source": [
        ""
      ],
      "execution_count": null,
      "outputs": []
    },
    {
      "cell_type": "code",
      "metadata": {
        "colab": {
          "base_uri": "https://localhost:8080/"
        },
        "id": "q__KpylhsTUJ",
        "outputId": "252c1f31-66ba-4a9f-b5fd-d98a01c54501"
      },
      "source": [
        "# Load the Drive helper and mount\n",
        "from google.colab import drive\n",
        "drive.mount('/content/drive')\n"
      ],
      "execution_count": null,
      "outputs": [
        {
          "output_type": "stream",
          "text": [
            "Mounted at /content/drive\n"
          ],
          "name": "stdout"
        }
      ]
    },
    {
      "cell_type": "code",
      "metadata": {
        "id": "SIo2_0b5Ov3K"
      },
      "source": [
        "import keras as krs\n",
        "def Emotion_detector(features):\n",
        "  loaded_model = krs.models.load_model('/content/drive/My Drive/Audio_Model/Emotion_Voice_Detection_Model.h5')\n",
        "  predictions = loaded_model.predict_classes(features)\n",
        "  return predictions"
      ],
      "execution_count": null,
      "outputs": []
    },
    {
      "cell_type": "code",
      "metadata": {
        "id": "SfmtbYALMlbQ"
      },
      "source": [
        "import numpy as np\n",
        "import pandas as pd \n",
        "def feature_extraction(path):\n",
        "  lst = []\n",
        "  X, sample_rate = librosa.load(path, res_type='kaiser_fast')\n",
        "  mfccs = np.mean(librosa.feature.mfcc(y=X, sr=sample_rate, n_mfcc=40).T,axis=0)\n",
        "  lst.append(mfccs)\n",
        "  return lst\n"
      ],
      "execution_count": null,
      "outputs": []
    },
    {
      "cell_type": "code",
      "metadata": {
        "colab": {
          "base_uri": "https://localhost:8080/"
        },
        "id": "o49WaNGGsbpP",
        "outputId": "bc3c89a3-e191-4596-e308-0e25d3e8b812"
      },
      "source": [
        "import librosa\n",
        "import numpy as np\n",
        "from librosa import display\n",
        "path = '/content/drive/My Drive/Final_Dataset/anger001.wav'\n",
        "features = feature_extraction(path)\n",
        "expanded_features = np.expand_dims(features, axis=2)\n",
        "predicted_emotion = Emotion_detector(expanded_features)\n",
        "print(predicted_emotion)"
      ],
      "execution_count": null,
      "outputs": [
        {
          "output_type": "stream",
          "text": [
            "[0]\n"
          ],
          "name": "stdout"
        },
        {
          "output_type": "stream",
          "text": [
            "/usr/local/lib/python3.7/dist-packages/tensorflow/python/keras/engine/sequential.py:450: UserWarning: `model.predict_classes()` is deprecated and will be removed after 2021-01-01. Please use instead:* `np.argmax(model.predict(x), axis=-1)`,   if your model does multi-class classification   (e.g. if it uses a `softmax` last-layer activation).* `(model.predict(x) > 0.5).astype(\"int32\")`,   if your model does binary classification   (e.g. if it uses a `sigmoid` last-layer activation).\n",
            "  warnings.warn('`model.predict_classes()` is deprecated and '\n"
          ],
          "name": "stderr"
        }
      ]
    },
    {
      "cell_type": "code",
      "metadata": {
        "id": "SyYG9jYANyeU"
      },
      "source": [
        ""
      ],
      "execution_count": null,
      "outputs": []
    }
  ]
}